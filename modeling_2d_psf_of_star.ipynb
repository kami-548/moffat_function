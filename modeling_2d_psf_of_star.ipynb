{
 "cells": [
  {
   "cell_type": "markdown",
   "metadata": {},
   "source": [
    "The Moffat function, named after its creator Peter Moffat, is a mathematical function used in various fields, including astronomy, physics, and image processing. It is particularly useful for modeling the point spread function (PSF) of optical systems, such as telescopes and cameras. The point spread function describes how a point source of light (like a star) appears in an image as a result of imperfections and limitations in the optical system. \n",
    "\n",
    "The Moffat function, named after its creator Peter Moffat, is a mathematical function used in various fields, including astronomy, physics, and image processing. It is particularly useful for modeling the point spread function (PSF) of optical systems, such as telescopes and cameras. The point spread function describes how a point source of light (like a star) appears in an image as a result of imperfections and limitations in the optical system.\n",
    "\n",
    "The Moffat function is defined as follows:\n",
    "\n",
    "$$M(x, y) = I_0 \\left[ 1 + \\left(\\frac{r}{\\alpha}\\right)^2 \\right]^{-\\beta} $$\n",
    "while\n",
    "$$r = \\sqrt{(x- x_0)^2 + (y - y_0)^2}$$\n",
    "\n",
    "Where:\n",
    "- \\(M(x, y)\\) is the value of the Moffat function at position \\((x, y)\\).\n",
    "- \\(I_0\\) is the central intensity, representing the peak brightness of the point source.\n",
    "- \\(r\\) is the radial distance from the center of the point source to the position \\((x, y)\\).\n",
    "- $\\alpha$ is a scale parameter that controls the width of the PSF.\n",
    "- $\\beta$ is a shape parameter that controls the shape of the PSF.\n",
    "\n",
    "The Moffat function is used to describe the distribution of light around a point source in an image. It has a central peak at the point source's location, and its shape is determined by the values of $\\alpha$ and $\\beta$. The $\\alpha$ parameter controls the width of the PSF, with larger values making it more spread out. The $\\beta$ parameter determines the shape of the wings of the PSF, with higher values making the wings more concentrated.\n",
    "\n",
    "Astronomers often use the Moffat function to model and deconvolve (correct) images taken with telescopes or cameras, where the PSF can affect the sharpness and accuracy of astronomical measurements. By fitting a Moffat function to the observed PSF, astronomers can better understand the characteristics of the optical system and improve the quality of their data."
   ]
  },
  {
   "cell_type": "code",
   "execution_count": 1,
   "metadata": {},
   "outputs": [],
   "source": [
    "# import libraries\n",
    "import numpy as np\n",
    "import matplotlib.pyplot as plt"
   ]
  },
  {
   "cell_type": "code",
   "execution_count": 9,
   "metadata": {},
   "outputs": [],
   "source": [
    "# defineing the Moffat function\n",
    "def moffat(x, y, amp,xc, yc,alpha, beta):\n",
    "    r = np.sqrt((x - xc)**2 + (y - yc)**2)\n",
    "    return amp * (1 + r**2 / alpha**2)**(-beta)"
   ]
  },
  {
   "cell_type": "code",
   "execution_count": 10,
   "metadata": {},
   "outputs": [],
   "source": [
    "# inserting the values\n",
    "x = np.linspace(-20, 20, 100)\n",
    "y = np.linspace(-20, 20, 100)\n",
    "\n",
    "X, Y = np.meshgrid(x, y)\n",
    "\n",
    "z = moffat(X, Y, 100,0,0,6, 4.5)"
   ]
  },
  {
   "cell_type": "code",
   "execution_count": 17,
   "metadata": {},
   "outputs": [
    {
     "data": {
      "image/png": "[encoded data removed]",
      "text/plain": [
       "<Figure size 640x480 with 2 Axes>"
      ]
     },
     "metadata": {},
     "output_type": "display_data"
    }
   ],
   "source": [
    "# for plotting the moffat function\n",
    "plt.imshow(z, cmap='jet')\n",
    "plt.colorbar()\n",
    "plt.show()"
   ]
  },
  {
   "cell_type": "code",
   "execution_count": null,
   "metadata": {},
   "outputs": [],
   "source": []
  }
 ],
 "metadata": {
  "kernelspec": {
   "display_name": "Python 3",
   "language": "python",
   "name": "python3"
  },
  "language_info": {
   "codemirror_mode": {
    "name": "ipython",
    "version": 3
   },
   "file_extension": ".py",
   "mimetype": "text/x-python",
   "name": "python",
   "nbconvert_exporter": "python",
   "pygments_lexer": "ipython3",
   "version": "3.10.5"
  },
  "orig_nbformat": 4
 },
 "nbformat": 4,
 "nbformat_minor": 2
}
